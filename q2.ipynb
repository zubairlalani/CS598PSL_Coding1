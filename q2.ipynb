{
 "cells": [
  {
   "cell_type": "code",
   "execution_count": 1,
   "id": "23fc1542",
   "metadata": {},
   "outputs": [],
   "source": [
    "import numpy as np\n",
    "from sklearn.neighbors import KNeighborsRegressor\n",
    "from sklearn.metrics import mean_squared_error\n",
    "import pandas as pd"
   ]
  },
  {
   "cell_type": "code",
   "execution_count": 2,
   "id": "625d24db",
   "metadata": {},
   "outputs": [],
   "source": [
    "np.random.seed(598)\n",
    "x1, x2, x3, x4 = np.random.randn(1000), np.random.randn(1000), np.random.randn(1000), np.random.randn(1000)\n",
    "epsilon = np.random.randn(1000)\n",
    "y = x1 + 2*x2 - x3 + epsilon"
   ]
  },
  {
   "cell_type": "code",
   "execution_count": 3,
   "id": "e143e5e9",
   "metadata": {},
   "outputs": [],
   "source": [
    "df = pd.DataFrame({\"x1\": x1, \"x2\": x2, \"x3\": x3, \"x4\": x4, \"y\": y})\n",
    "x_set, y_set = df[[\"x1\", \"x2\", \"x3\", \"x4\"]].values, df[[\"y\"]].values\n",
    "x_train, x_test = x_set[:500], x_set[500:]\n",
    "y_train, y_test = y_set[:500], y_set[500:]"
   ]
  },
  {
   "cell_type": "code",
   "execution_count": 4,
   "id": "8a8110d6",
   "metadata": {},
   "outputs": [],
   "source": [
    "def builtin_knn(n):\n",
    "    regressor = KNeighborsRegressor(n_neighbors=n)\n",
    "    regressor.fit(x_train, y_train)\n",
    "    return mean_squared_error(y_test, regressor.predict(x_test))"
   ]
  },
  {
   "cell_type": "code",
   "execution_count": 5,
   "id": "9570e0b7",
   "metadata": {},
   "outputs": [
    {
     "name": "stdout",
     "output_type": "stream",
     "text": [
      "1.5400756698787827\n",
      "1.3978324747917983\n"
     ]
    }
   ],
   "source": [
    "print(builtin_knn(4))\n",
    "print(builtin_knn(5))"
   ]
  },
  {
   "cell_type": "code",
   "execution_count": 6,
   "id": "08b1534a",
   "metadata": {},
   "outputs": [],
   "source": [
    "def euclidean_distance(x1, x2):\n",
    "    return np.sqrt(np.sum((x1-x2)**2))"
   ]
  },
  {
   "cell_type": "code",
   "execution_count": 7,
   "id": "95639bc1",
   "metadata": {},
   "outputs": [],
   "source": [
    "def myKNN(xtrain, ytrain, xtest, k):\n",
    "    ytest = []\n",
    "\n",
    "    for x in xtest:\n",
    "        distances_arr = [euclidean_distance(x, train) for train in xtrain]\n",
    "        nearest_indices = np.argsort(distances_arr)[:k]\n",
    "        nearest_neighbors = [ytrain[i] for i in nearest_indices]\n",
    "        ytest.append(np.mean(nearest_neighbors))\n",
    "\n",
    "    return ytest"
   ]
  },
  {
   "cell_type": "code",
   "execution_count": 12,
   "id": "672bdd13",
   "metadata": {},
   "outputs": [],
   "source": [
    "def mse(test, pred):\n",
    "    n = len(test)\n",
    "    error = 0\n",
    "    for i in range(n):\n",
    "        error += ((test[i]-pred[i])**2)\n",
    "    \n",
    "    return (float)(error.item() / n)"
   ]
  },
  {
   "cell_type": "code",
   "execution_count": 13,
   "id": "79b05e7c",
   "metadata": {},
   "outputs": [
    {
     "name": "stdout",
     "output_type": "stream",
     "text": [
      "1.540075669878783\n",
      "1.3978324747917972\n"
     ]
    }
   ],
   "source": [
    "ypred4 = myKNN(x_train, y_train, x_test, 4)\n",
    "print(mse(y_test, ypred4))\n",
    "ypred5 = myKNN(x_train, y_train, x_test, 5)\n",
    "print(mse(y_test, ypred5))"
   ]
  }
 ],
 "metadata": {
  "kernelspec": {
   "display_name": "598Assignment1 (3.12.1)",
   "language": "python",
   "name": "python3"
  },
  "language_info": {
   "codemirror_mode": {
    "name": "ipython",
    "version": 3
   },
   "file_extension": ".py",
   "mimetype": "text/x-python",
   "name": "python",
   "nbconvert_exporter": "python",
   "pygments_lexer": "ipython3",
   "version": "3.12.1"
  }
 },
 "nbformat": 4,
 "nbformat_minor": 5
}
